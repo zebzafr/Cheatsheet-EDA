{
  "nbformat": 4,
  "nbformat_minor": 0,
  "metadata": {
    "colab": {
      "name": "Cheatsheet for basic Exploratory Data Analysis functions",
      "provenance": [],
      "collapsed_sections": [
        "9sg6NvqBaqZ6",
        "QtYIt6J7pYzl",
        "BzMcskjfMoBn",
        "lp1b_fSuWfYG",
        "zMZNiByt0ks0",
        "zsXB2OHo6Mb1",
        "YFGMiPPgXwNI",
        "3vm35ibgYnrL",
        "OEsEGRGA_59C",
        "xRB7LsInr8oU",
        "KVLqoL5FKxaj",
        "tT9vN96_6JyF",
        "ctRII5-6Lvtz",
        "rZUDsOmaG8SF",
        "RZ1pQ7xQGahL",
        "acC4Goa5LpuC",
        "F54S6GmALw_D",
        "eRKrs3tTF59B",
        "pjotVyl9NtAp",
        "tCo5BLuQUGnl",
        "sqpv9x9bafkE",
        "4X_2cIS5E1o4"
      ],
      "toc_visible": true,
      "include_colab_link": true
    },
    "kernelspec": {
      "name": "python3",
      "display_name": "Python 3"
    }
  },
  "cells": [
    {
      "cell_type": "markdown",
      "metadata": {
        "id": "view-in-github",
        "colab_type": "text"
      },
      "source": [
        "<a href=\"https://colab.research.google.com/github/zebzafr/Cheatsheet-EDA/blob/master/Cheatsheet_for_basic_Exploratory_Data_Analysis_functions.ipynb\" target=\"_parent\"><img src=\"https://colab.research.google.com/assets/colab-badge.svg\" alt=\"Open In Colab\"/></a>"
      ]
    },
    {
      "cell_type": "markdown",
      "metadata": {
        "id": "mzGYEpO7aeTQ",
        "colab_type": "text"
      },
      "source": [
        "##**Cheatsheet for basic Exploratory Data Analysis functions**\n",
        "#####Last edited: 2020-06-10  | By: [Limor Goldhaber](https://www.linkedin.com/in/limorgoldhaber/) \n",
        "---\n",
        "\n",
        "\n",
        "\n"
      ]
    },
    {
      "cell_type": "markdown",
      "metadata": {
        "id": "BoJNTkyW5wtE",
        "colab_type": "text"
      },
      "source": [
        "## **Data analysis using python**"
      ]
    },
    {
      "cell_type": "markdown",
      "metadata": {
        "id": "9sg6NvqBaqZ6",
        "colab_type": "text"
      },
      "source": [
        "###**Importing python libraries**\n",
        "\n",
        "\n"
      ]
    },
    {
      "cell_type": "code",
      "metadata": {
        "id": "rM60rhb6n7x0",
        "colab_type": "code",
        "colab": {}
      },
      "source": [
        "# Import any python libraries you'll need below. \n",
        "# Here are some common and basic libraries used:\n",
        "import numpy             as np\n",
        "import pandas            as pd\n",
        "import matplotlib.pyplot as plt\n",
        "import seaborn           as sns"
      ],
      "execution_count": null,
      "outputs": []
    },
    {
      "cell_type": "markdown",
      "metadata": {
        "id": "QtYIt6J7pYzl",
        "colab_type": "text"
      },
      "source": [
        "###**Importing data files**\n",
        "Using Medium articles dataset from [Kaggle ](https://www.kaggle.com/hsankesara/medium-articles)"
      ]
    },
    {
      "cell_type": "code",
      "metadata": {
        "id": "VBncYSk8T-5j",
        "colab_type": "code",
        "colab": {
          "base_uri": "https://localhost:8080/",
          "height": 34
        },
        "outputId": "f1cb2d77-21e5-46b9-e75b-3fd96592a422"
      },
      "source": [
        "#importing dataset from Google Drive\n",
        "from google.colab import drive\n",
        "drive.mount('/content/drive')\n",
        "dataset='/content/sample_data/articles.csv'\n",
        "data=pd.read_csv (dataset)"
      ],
      "execution_count": null,
      "outputs": [
        {
          "output_type": "stream",
          "text": [
            "Drive already mounted at /content/drive; to attempt to forcibly remount, call drive.mount(\"/content/drive\", force_remount=True).\n"
          ],
          "name": "stdout"
        }
      ]
    },
    {
      "cell_type": "markdown",
      "metadata": {
        "id": "BzMcskjfMoBn",
        "colab_type": "text"
      },
      "source": [
        "###**Inspacting your data**\n",
        "  "
      ]
    },
    {
      "cell_type": "markdown",
      "metadata": {
        "id": "lp1b_fSuWfYG",
        "colab_type": "text"
      },
      "source": [
        "####**.head( ) function : take a look at the *first* few rows your data**\n",
        "At the beginning of any data analysis, explore the structure of the data set you'll be working with using the **head( )** function. The output will include the top 5 rows in your data set. To specify the exact number of rows shown, enter the number in head's brakets. For example: head(3) would give the first 3 rows."
      ]
    },
    {
      "cell_type": "code",
      "metadata": {
        "id": "N2-8ZCh_Uu6A",
        "colab_type": "code",
        "colab": {
          "base_uri": "https://localhost:8080/",
          "height": 289
        },
        "outputId": "e0a650b8-10d4-404c-8b1b-7bf281646b9e"
      },
      "source": [
        "data.head()\n"
      ],
      "execution_count": null,
      "outputs": [
        {
          "output_type": "execute_result",
          "data": {
            "text/html": [
              "<div>\n",
              "<style scoped>\n",
              "    .dataframe tbody tr th:only-of-type {\n",
              "        vertical-align: middle;\n",
              "    }\n",
              "\n",
              "    .dataframe tbody tr th {\n",
              "        vertical-align: top;\n",
              "    }\n",
              "\n",
              "    .dataframe thead th {\n",
              "        text-align: right;\n",
              "    }\n",
              "</style>\n",
              "<table border=\"1\" class=\"dataframe\">\n",
              "  <thead>\n",
              "    <tr style=\"text-align: right;\">\n",
              "      <th></th>\n",
              "      <th>author</th>\n",
              "      <th>claps</th>\n",
              "      <th>reading_time</th>\n",
              "      <th>link</th>\n",
              "      <th>title</th>\n",
              "      <th>text</th>\n",
              "    </tr>\n",
              "  </thead>\n",
              "  <tbody>\n",
              "    <tr>\n",
              "      <th>0</th>\n",
              "      <td>Justin Lee</td>\n",
              "      <td>8.3K</td>\n",
              "      <td>11</td>\n",
              "      <td>https://medium.com/swlh/chatbots-were-the-next...</td>\n",
              "      <td>Chatbots were the next big thing: what happene...</td>\n",
              "      <td>Oh, how the headlines blared:\\nChatbots were T...</td>\n",
              "    </tr>\n",
              "    <tr>\n",
              "      <th>1</th>\n",
              "      <td>Conor Dewey</td>\n",
              "      <td>1.4K</td>\n",
              "      <td>7</td>\n",
              "      <td>https://towardsdatascience.com/python-for-data...</td>\n",
              "      <td>Python for Data Science: 8 Concepts You May Ha...</td>\n",
              "      <td>If you’ve ever found yourself looking up the s...</td>\n",
              "    </tr>\n",
              "    <tr>\n",
              "      <th>2</th>\n",
              "      <td>William Koehrsen</td>\n",
              "      <td>2.8K</td>\n",
              "      <td>11</td>\n",
              "      <td>https://towardsdatascience.com/automated-featu...</td>\n",
              "      <td>Automated Feature Engineering in Python – Towa...</td>\n",
              "      <td>Machine learning is increasingly moving from h...</td>\n",
              "    </tr>\n",
              "    <tr>\n",
              "      <th>3</th>\n",
              "      <td>Gant Laborde</td>\n",
              "      <td>1.3K</td>\n",
              "      <td>7</td>\n",
              "      <td>https://medium.freecodecamp.org/machine-learni...</td>\n",
              "      <td>Machine Learning: how to go from Zero to Hero ...</td>\n",
              "      <td>If your understanding of A.I. and Machine Lear...</td>\n",
              "    </tr>\n",
              "    <tr>\n",
              "      <th>4</th>\n",
              "      <td>Emmanuel Ameisen</td>\n",
              "      <td>935</td>\n",
              "      <td>11</td>\n",
              "      <td>https://blog.insightdatascience.com/reinforcem...</td>\n",
              "      <td>Reinforcement Learning from scratch – Insight ...</td>\n",
              "      <td>Want to learn about applied Artificial Intelli...</td>\n",
              "    </tr>\n",
              "  </tbody>\n",
              "</table>\n",
              "</div>"
            ],
            "text/plain": [
              "             author  ...                                               text\n",
              "0        Justin Lee  ...  Oh, how the headlines blared:\\nChatbots were T...\n",
              "1       Conor Dewey  ...  If you’ve ever found yourself looking up the s...\n",
              "2  William Koehrsen  ...  Machine learning is increasingly moving from h...\n",
              "3      Gant Laborde  ...  If your understanding of A.I. and Machine Lear...\n",
              "4  Emmanuel Ameisen  ...  Want to learn about applied Artificial Intelli...\n",
              "\n",
              "[5 rows x 6 columns]"
            ]
          },
          "metadata": {
            "tags": []
          },
          "execution_count": 20
        }
      ]
    },
    {
      "cell_type": "markdown",
      "metadata": {
        "id": "zMZNiByt0ks0",
        "colab_type": "text"
      },
      "source": [
        "####**.tail() function: take a look at the *last* few rows of your data**\n",
        "After exploring the first few rows of your data using the .head() function, it is important to also look at the last few rows of your data, especially in large data sets.\n"
      ]
    },
    {
      "cell_type": "code",
      "metadata": {
        "id": "HFe-fiYC1BUi",
        "colab_type": "code",
        "colab": {}
      },
      "source": [
        "data.tail()"
      ],
      "execution_count": null,
      "outputs": []
    },
    {
      "cell_type": "markdown",
      "metadata": {
        "id": "BgB0oERBH-UY",
        "colab_type": "text"
      },
      "source": [
        "####**.shape function : check the number of rows and columns in your data**\n",
        "\n",
        "This function will provide the number of rows and columns (in this order) that exist in your dataset. "
      ]
    },
    {
      "cell_type": "code",
      "metadata": {
        "id": "V2mumkhRIpZK",
        "colab_type": "code",
        "colab": {}
      },
      "source": [
        "print(type(data))   # Will output the type of data imported. In this case: DataFrame\n",
        "print(data.shape)   # Will output the number of rows & columns in the imported dataset (rows,columns)"
      ],
      "execution_count": null,
      "outputs": []
    },
    {
      "cell_type": "markdown",
      "metadata": {
        "id": "etb603VoKNS3",
        "colab_type": "text"
      },
      "source": [
        "####**.index & .columns functions**"
      ]
    },
    {
      "cell_type": "code",
      "metadata": {
        "id": "ftifNjseKeZp",
        "colab_type": "code",
        "colab": {}
      },
      "source": [
        "print(data.columns) # Will provide an output of all the columns names including the data type excluding the index column\n",
        "print(data.index)   # Will provide an output of the index column in the dataset including the data type and column name \n"
      ],
      "execution_count": null,
      "outputs": []
    },
    {
      "cell_type": "markdown",
      "metadata": {
        "id": "zsXB2OHo6Mb1",
        "colab_type": "text"
      },
      "source": [
        "####**.info() function: Explore data types and nulls/ NaNs in your data**"
      ]
    },
    {
      "cell_type": "code",
      "metadata": {
        "id": "9QNDIykc6ihq",
        "colab_type": "code",
        "colab": {}
      },
      "source": [
        "data.info()  # Will provide an output of the data types as well as where the data have missing values"
      ],
      "execution_count": null,
      "outputs": []
    },
    {
      "cell_type": "markdown",
      "metadata": {
        "id": "cJuqCqOj8kwn",
        "colab_type": "text"
      },
      "source": [
        "####**.unique() function: returns an array of the unique values**\n"
      ]
    },
    {
      "cell_type": "code",
      "metadata": {
        "id": "uVk7zXKO8xNu",
        "colab_type": "code",
        "colab": {}
      },
      "source": [
        "data.author.unique()"
      ],
      "execution_count": null,
      "outputs": []
    },
    {
      "cell_type": "markdown",
      "metadata": {
        "id": "ty2YGhA0i_kN",
        "colab_type": "text"
      },
      "source": [
        "###**Data cleaning & organizing**"
      ]
    },
    {
      "cell_type": "markdown",
      "metadata": {
        "id": "Vz8e-2D7k-gH",
        "colab_type": "text"
      },
      "source": [
        "####**Index Column**\n",
        "\n"
      ]
    },
    {
      "cell_type": "markdown",
      "metadata": {
        "id": "iedeNGC8llQV",
        "colab_type": "text"
      },
      "source": [
        "When there's a need to specify the column needed to be used as index, you can reimport the data set, specificing the column index location of which you'd like to use as index. \n",
        "\n",
        "\n",
        "```\n",
        "pd.read_csv(source, index_coll=0)\n",
        "```\n"
      ]
    },
    {
      "cell_type": "markdown",
      "metadata": {
        "id": "_z5PAj8xPm2s",
        "colab_type": "text"
      },
      "source": [
        "####**Columns labels**\n",
        "\n",
        "\n"
      ]
    },
    {
      "cell_type": "markdown",
      "metadata": {
        "id": "x8yIek6CXZYz",
        "colab_type": "text"
      },
      "source": [
        "In some cases the data imported will not have columns names or we'll need to adjust the column names to make them clearer.\n",
        "\n",
        "To do that, we can create a list of columns names (str) and store it under 'columns_names'. Then, use the 'names=' keyword when importing the data. \n",
        "\n",
        "\n",
        "\n",
        "```\n",
        "\n",
        "columns_names = ['author', 'claps', 'reading_time', 'link', 'title', 'text']\n",
        "\n",
        "pd.read_csv (data,index_col=0,names=columns_names )\n",
        "```"
      ]
    },
    {
      "cell_type": "markdown",
      "metadata": {
        "id": "OqZSZ4edTAVl",
        "colab_type": "text"
      },
      "source": [
        "####**Assigning N/A values**\n",
        "\n"
      ]
    },
    {
      "cell_type": "markdown",
      "metadata": {
        "id": "1YKsgd4Zlovu",
        "colab_type": "text"
      },
      "source": [
        "In cases where there's missing data, we can define the values to be assigned for it. \n",
        "\n",
        "```\n",
        "# When importing the data we can specify the column which includes the NA values and the way NA is defined in the data \n",
        "data=pd.read_csv (source,index_col=0,names=columns_names,na_values={'column_name':[' NaN']} ) \n",
        "\n",
        "```\n",
        "\n"
      ]
    },
    {
      "cell_type": "markdown",
      "metadata": {
        "id": "ODqP_FV_t-Xl",
        "colab_type": "text"
      },
      "source": [
        "####**Changing column values format: From 'K' to 1000**"
      ]
    },
    {
      "cell_type": "code",
      "metadata": {
        "id": "0QmUZbGdANQK",
        "colab_type": "code",
        "colab": {}
      },
      "source": [
        "# replace K with 1000 and create 'claps' column an int64 type #\n",
        "\n",
        "# Casting column 'claps' values as str\n",
        "data['claps'].astype('str')   \n",
        "# Storing under K True/False for all values in 'Claps' column to locate values that end with 'K'        \n",
        "K = data['claps'].str.endswith('K') \n",
        "# Storing under old_value all values in 'claps' column that end with K\n",
        "old_value = data.loc[K,'claps']\n",
        "# replacting 'K' in old_value with '000', casting the values as a float and multiplying by 1000 to get the real values\n",
        "new = old_value.str.replace('K','').astype('float') *1000\n",
        "# replacing old_value with the new ones in the claps column and casting the data in the column as integer\n",
        "data.loc[:,'claps']=data.loc[:,'claps'].replace(np.array(old_value),np.array(new)).astype(int)\n",
        "\n"
      ],
      "execution_count": null,
      "outputs": []
    },
    {
      "cell_type": "markdown",
      "metadata": {
        "id": "LYKbEjaX-oMX",
        "colab_type": "text"
      },
      "source": [
        "####**Adding 2 columns: Title length, Text length**"
      ]
    },
    {
      "cell_type": "code",
      "metadata": {
        "id": "B4_qg7h977zC",
        "colab_type": "code",
        "colab": {}
      },
      "source": [
        "# Creating new column for title len \n",
        "# Passing values through str.len() \n",
        "data['title_len']=data.title.str.len()\n",
        "\n",
        "# Creating new column for title len \n",
        "# Passing values through str.len() \n",
        "data['text_len']=data.text.str.len()"
      ],
      "execution_count": null,
      "outputs": []
    },
    {
      "cell_type": "markdown",
      "metadata": {
        "id": "n3WsMyCpy41W",
        "colab_type": "text"
      },
      "source": [
        "#### **Cleaned table view**"
      ]
    },
    {
      "cell_type": "code",
      "metadata": {
        "id": "qx460fGLyTrp",
        "colab_type": "code",
        "colab": {
          "base_uri": "https://localhost:8080/",
          "height": 289
        },
        "outputId": "9002d3ab-6d06-4c9a-f316-9834f9775c0b"
      },
      "source": [
        "print('First 5 columns:', data.head())\n",
        "print('Last 5 columns:', data.tail())"
      ],
      "execution_count": null,
      "outputs": [
        {
          "output_type": "stream",
          "text": [
            "First 5 columns:              author  claps  ...  title_len text_len\n",
            "0        Justin Lee   8300  ...         71    12129\n",
            "1       Conor Dewey   1400  ...         58     7730\n",
            "2  William Koehrsen   2800  ...         62    14070\n",
            "3      Gant Laborde   1300  ...         60     8076\n",
            "4  Emmanuel Ameisen    935  ...         50    13784\n",
            "\n",
            "[5 rows x 8 columns]\n",
            "Last 5 columns:                   author  claps  ...  title_len text_len\n",
            "332       Daniel Simmons   3400  ...         96     9955\n",
            "333  Eugenio Culurciello   2800  ...         69    11479\n",
            "334           Devin Soni   5800  ...         64     4445\n",
            "335      Carlos E. Perez   3900  ...         56     7140\n",
            "336      Nityesh Agarwal   2400  ...         63    12116\n",
            "\n",
            "[5 rows x 8 columns]\n"
          ],
          "name": "stdout"
        }
      ]
    },
    {
      "cell_type": "markdown",
      "metadata": {
        "id": "kcx-ngb9jVQE",
        "colab_type": "text"
      },
      "source": [
        "###**Visual exploratory data analysis**\n"
      ]
    },
    {
      "cell_type": "markdown",
      "metadata": {
        "id": "7UKIJvDhqs48",
        "colab_type": "text"
      },
      "source": [
        "At the beginning of a data analysis we'll want to explore any possible relationships and other insights we can learn from the data. \n",
        "\n",
        "Visual exploration using line/box/scatter plots and histograms will provide a first look into the possible relationships that lies within the data. \n",
        "\n",
        "In addition to the visual exploration, we'll also conduct statistical exploration. Together they'll provide us with a more complete view and better understanding of the data. At this point, we'll use Pandas ploting functions (which are built on the matplotlib library). "
      ]
    },
    {
      "cell_type": "markdown",
      "metadata": {
        "id": "UpHNCWPDo1se",
        "colab_type": "text"
      },
      "source": [
        "#####**Histogram**\n",
        "Scatter plots requires specifying the plot kind to 'hist'. There are several options for customizing histograms:\n",
        "\n",
        "\n",
        "\n",
        "```\n",
        "# bins(int)            = number of intervals or bins\n",
        "# range(tuple)         = extrema of bins (minimum, maximum) \n",
        "# density(boolean)      = whether to normalize to one (used to be normed)\n",
        "# cumulative (boolean) = compute Cumulative Distribution Function (CDF)\n",
        "```\n",
        "\n"
      ]
    },
    {
      "cell_type": "code",
      "metadata": {
        "id": "3Pww3jNXPpUZ",
        "colab_type": "code",
        "colab": {
          "base_uri": "https://localhost:8080/",
          "height": 282
        },
        "outputId": "dcc3a689-5395-486e-d0ff-65b432982098"
      },
      "source": [
        "title ='Medium blogs text length'\n",
        "x ='Number of charecters in post'\n",
        "y = 'Frequency'\n",
        "\n",
        "data['claps'].plot(kind='hist',bins=30)"
      ],
      "execution_count": null,
      "outputs": [
        {
          "output_type": "execute_result",
          "data": {
            "text/plain": [
              "<matplotlib.axes._subplots.AxesSubplot at 0x7f796bea42b0>"
            ]
          },
          "metadata": {
            "tags": []
          },
          "execution_count": 25
        },
        {
          "output_type": "display_data",
          "data": {
            "image/png": "[encoded data removed]",
            "text/plain": [
              "<Figure size 432x288 with 1 Axes>"
            ]
          },
          "metadata": {
            "tags": [],
            "needs_background": "light"
          }
        }
      ]
    },
    {
      "cell_type": "markdown",
      "metadata": {
        "id": "xcy9npCMbrMJ",
        "colab_type": "text"
      },
      "source": [
        "#####**Line plot**\n",
        "Line plots require specificing the X, Y columns to be used. "
      ]
    },
    {
      "cell_type": "code",
      "metadata": {
        "id": "05j0sON0cKdN",
        "colab_type": "code",
        "colab": {
          "base_uri": "https://localhost:8080/",
          "height": 280
        },
        "outputId": "3fee396b-6c1c-4055-bd1e-7f147e09d550"
      },
      "source": [
        "data.plot (x='reading_time',y='text_len') # the default plot is a line plot. you'll need to specify the columns to be used for x,y.\n",
        "plt.show()"
      ],
      "execution_count": null,
      "outputs": [
        {
          "output_type": "display_data",
          "data": {
            "image/png": "[encoded data removed]",
            "text/plain": [
              "<Figure size 432x288 with 1 Axes>"
            ]
          },
          "metadata": {
            "tags": [],
            "needs_background": "light"
          }
        }
      ]
    },
    {
      "cell_type": "markdown",
      "metadata": {
        "id": "GqsOJiwWzDJC",
        "colab_type": "text"
      },
      "source": [
        "#####**Box plot**"
      ]
    },
    {
      "cell_type": "code",
      "metadata": {
        "id": "wqZQV3Bz23mP",
        "colab_type": "code",
        "colab": {
          "base_uri": "https://localhost:8080/",
          "height": 283
        },
        "outputId": "87965e1f-b79b-4bf0-edf0-95d020c76d60"
      },
      "source": [
        "data.plot(kind='box',x='reading_time',y='text_len')"
      ],
      "execution_count": null,
      "outputs": [
        {
          "output_type": "execute_result",
          "data": {
            "text/plain": [
              "<matplotlib.axes._subplots.AxesSubplot at 0x7f796a5a8128>"
            ]
          },
          "metadata": {
            "tags": []
          },
          "execution_count": 27
        },
        {
          "output_type": "display_data",
          "data": {
            "image/png": "[encoded data removed]",
            "text/plain": [
              "<Figure size 432x288 with 1 Axes>"
            ]
          },
          "metadata": {
            "tags": [],
            "needs_background": "light"
          }
        }
      ]
    },
    {
      "cell_type": "code",
      "metadata": {
        "id": "xSrtvZ_Y_ZQh",
        "colab_type": "code",
        "colab": {
          "base_uri": "https://localhost:8080/",
          "height": 764
        },
        "outputId": "4f8ba8c1-545b-4ece-db04-3d634b56455d"
      },
      "source": [
        "sns.pairplot(data)"
      ],
      "execution_count": null,
      "outputs": [
        {
          "output_type": "execute_result",
          "data": {
            "text/plain": [
              "<seaborn.axisgrid.PairGrid at 0x7f796a517b38>"
            ]
          },
          "metadata": {
            "tags": []
          },
          "execution_count": 28
        },
        {
          "output_type": "display_data",
          "data": {
            "image/png": "[encoded data removed]",
            "text/plain": [
              "<Figure size 720x720 with 20 Axes>"
            ]
          },
          "metadata": {
            "tags": [],
            "needs_background": "light"
          }
        }
      ]
    },
    {
      "cell_type": "markdown",
      "metadata": {
        "id": "Klvdw-u-vLod",
        "colab_type": "text"
      },
      "source": [
        "###**Statistical exploratory data analysis** "
      ]
    },
    {
      "cell_type": "markdown",
      "metadata": {
        "id": "cd9x43EcV44h",
        "colab_type": "text"
      },
      "source": [
        "####**.describe( ) function : summary statistics of your data**\n",
        "To start understanding how your data is distributed, use the .describe() function. "
      ]
    },
    {
      "cell_type": "code",
      "metadata": {
        "id": "cTJYf6pSVFj-",
        "colab_type": "code",
        "colab": {
          "base_uri": "https://localhost:8080/",
          "height": 297
        },
        "outputId": "2ecf819b-f04a-4702-fac7-1a7e02c26e06"
      },
      "source": [
        "data.describe() # provides basic statistics for all the table's columns which inlcudes numerical values\n",
        "\n",
        "# count = number of entries \n",
        "# mean = average of entries\n",
        "# std = standard deviation\n",
        "# min = minimum entry\n",
        "# 25% = first quartile\n",
        "# 50% = median or second quartile\n",
        "# 75% = third quartile \n",
        "# max = maximum entry\n"
      ],
      "execution_count": null,
      "outputs": [
        {
          "output_type": "execute_result",
          "data": {
            "text/html": [
              "<div>\n",
              "<style scoped>\n",
              "    .dataframe tbody tr th:only-of-type {\n",
              "        vertical-align: middle;\n",
              "    }\n",
              "\n",
              "    .dataframe tbody tr th {\n",
              "        vertical-align: top;\n",
              "    }\n",
              "\n",
              "    .dataframe thead th {\n",
              "        text-align: right;\n",
              "    }\n",
              "</style>\n",
              "<table border=\"1\" class=\"dataframe\">\n",
              "  <thead>\n",
              "    <tr style=\"text-align: right;\">\n",
              "      <th></th>\n",
              "      <th>claps</th>\n",
              "      <th>reading_time</th>\n",
              "      <th>title_len</th>\n",
              "      <th>text_len</th>\n",
              "    </tr>\n",
              "  </thead>\n",
              "  <tbody>\n",
              "    <tr>\n",
              "      <th>count</th>\n",
              "      <td>337.000000</td>\n",
              "      <td>337.000000</td>\n",
              "      <td>337.000000</td>\n",
              "      <td>337.000000</td>\n",
              "    </tr>\n",
              "    <tr>\n",
              "      <th>mean</th>\n",
              "      <td>5406.311573</td>\n",
              "      <td>9.700297</td>\n",
              "      <td>64.937685</td>\n",
              "      <td>11120.160237</td>\n",
              "    </tr>\n",
              "    <tr>\n",
              "      <th>std</th>\n",
              "      <td>9089.187145</td>\n",
              "      <td>5.482855</td>\n",
              "      <td>14.323193</td>\n",
              "      <td>7455.120310</td>\n",
              "    </tr>\n",
              "    <tr>\n",
              "      <th>min</th>\n",
              "      <td>1.000000</td>\n",
              "      <td>2.000000</td>\n",
              "      <td>24.000000</td>\n",
              "      <td>1350.000000</td>\n",
              "    </tr>\n",
              "    <tr>\n",
              "      <th>25%</th>\n",
              "      <td>157.000000</td>\n",
              "      <td>6.000000</td>\n",
              "      <td>55.000000</td>\n",
              "      <td>6103.000000</td>\n",
              "    </tr>\n",
              "    <tr>\n",
              "      <th>50%</th>\n",
              "      <td>2000.000000</td>\n",
              "      <td>8.000000</td>\n",
              "      <td>63.000000</td>\n",
              "      <td>8697.000000</td>\n",
              "    </tr>\n",
              "    <tr>\n",
              "      <th>75%</th>\n",
              "      <td>7000.000000</td>\n",
              "      <td>13.000000</td>\n",
              "      <td>72.000000</td>\n",
              "      <td>14237.000000</td>\n",
              "    </tr>\n",
              "    <tr>\n",
              "      <th>max</th>\n",
              "      <td>53000.000000</td>\n",
              "      <td>31.000000</td>\n",
              "      <td>104.000000</td>\n",
              "      <td>44527.000000</td>\n",
              "    </tr>\n",
              "  </tbody>\n",
              "</table>\n",
              "</div>"
            ],
            "text/plain": [
              "              claps  reading_time   title_len      text_len\n",
              "count    337.000000    337.000000  337.000000    337.000000\n",
              "mean    5406.311573      9.700297   64.937685  11120.160237\n",
              "std     9089.187145      5.482855   14.323193   7455.120310\n",
              "min        1.000000      2.000000   24.000000   1350.000000\n",
              "25%      157.000000      6.000000   55.000000   6103.000000\n",
              "50%     2000.000000      8.000000   63.000000   8697.000000\n",
              "75%     7000.000000     13.000000   72.000000  14237.000000\n",
              "max    53000.000000     31.000000  104.000000  44527.000000"
            ]
          },
          "metadata": {
            "tags": []
          },
          "execution_count": 29
        }
      ]
    },
    {
      "cell_type": "markdown",
      "metadata": {
        "id": "kIwQZ4LKwfz1",
        "colab_type": "text"
      },
      "source": [
        "####**Running stand alone summary statistics functions**"
      ]
    },
    {
      "cell_type": "markdown",
      "metadata": {
        "id": "q7qe1tJBxL-f",
        "colab_type": "text"
      },
      "source": [
        "In addition to the describe function, it's also possible to run summary statistics functions seperatly / one-by-one. \n"
      ]
    },
    {
      "cell_type": "markdown",
      "metadata": {
        "id": "VCD6jDsbxVyR",
        "colab_type": "text"
      },
      "source": [
        "#####**.count( ) : count the number of entries**\n"
      ]
    },
    {
      "cell_type": "code",
      "metadata": {
        "id": "TSVVaLz_xj0P",
        "colab_type": "code",
        "colab": {
          "base_uri": "https://localhost:8080/",
          "height": 170
        },
        "outputId": "e2f137c8-cb6c-4857-dcba-260f0450cbb1"
      },
      "source": [
        "data.count()\n",
        "\n",
        "#count() options includ:\n",
        "# axis = if 0 counts entries in column, if 1 counts entries in rows. default=0\n",
        "# level = int or str\n",
        "# numeric_only = default None\n"
      ],
      "execution_count": null,
      "outputs": [
        {
          "output_type": "execute_result",
          "data": {
            "text/plain": [
              "author          337\n",
              "claps           337\n",
              "reading_time    337\n",
              "link            337\n",
              "title           337\n",
              "text            337\n",
              "title_len       337\n",
              "text_len        337\n",
              "dtype: int64"
            ]
          },
          "metadata": {
            "tags": []
          },
          "execution_count": 30
        }
      ]
    },
    {
      "cell_type": "markdown",
      "metadata": {
        "colab_type": "text",
        "id": "CHGw_D2d2PBo"
      },
      "source": [
        "#####**.mean( ) : calculating the average of entries**\n"
      ]
    },
    {
      "cell_type": "code",
      "metadata": {
        "colab_type": "code",
        "id": "CmAvsApD2PBr",
        "colab": {
          "base_uri": "https://localhost:8080/",
          "height": 102
        },
        "outputId": "f4a291bb-945a-4ba8-a443-7e4f10569d23"
      },
      "source": [
        "data.mean()\n",
        "\n",
        "#important options to consider:\n",
        "#skipna = default False, allows calculating the average withough NA/NaN entries\n",
        "#numeric_only = default None, allows calculating the average for numeric values only\n"
      ],
      "execution_count": null,
      "outputs": [
        {
          "output_type": "execute_result",
          "data": {
            "text/plain": [
              "claps            5406.311573\n",
              "reading_time        9.700297\n",
              "title_len          64.937685\n",
              "text_len        11120.160237\n",
              "dtype: float64"
            ]
          },
          "metadata": {
            "tags": []
          },
          "execution_count": 31
        }
      ]
    },
    {
      "cell_type": "markdown",
      "metadata": {
        "colab_type": "text",
        "id": "QnwhlyTz3MmK"
      },
      "source": [
        "#####**.std( ) : Standard deviation**\n"
      ]
    },
    {
      "cell_type": "code",
      "metadata": {
        "colab_type": "code",
        "id": "rLeFufhq3MmL",
        "colab": {
          "base_uri": "https://localhost:8080/",
          "height": 102
        },
        "outputId": "d20d549d-78ec-4acd-afe7-ef8e36c3c1c1"
      },
      "source": [
        "data.std()\n",
        "\n",
        "#important options to consider:\n",
        "#skipna = default False, allows calculating the average withough NA/NaN entries\n",
        "#numeric_only = default None, allows calculating the average for numeric values only\n"
      ],
      "execution_count": null,
      "outputs": [
        {
          "output_type": "execute_result",
          "data": {
            "text/plain": [
              "claps           9089.187145\n",
              "reading_time       5.482855\n",
              "title_len         14.323193\n",
              "text_len        7455.120310\n",
              "dtype: float64"
            ]
          },
          "metadata": {
            "tags": []
          },
          "execution_count": 32
        }
      ]
    },
    {
      "cell_type": "markdown",
      "metadata": {
        "colab_type": "text",
        "id": "Rd3VnHAb4idt"
      },
      "source": [
        "#####**.quantile( ) : Inter-quartile range (IQR)**\n"
      ]
    },
    {
      "cell_type": "code",
      "metadata": {
        "colab_type": "code",
        "id": "gk5RauFg4idx",
        "colab": {
          "base_uri": "https://localhost:8080/",
          "height": 142
        },
        "outputId": "d18b2762-0e91-421f-b68a-ad6a6209c625"
      },
      "source": [
        "data.quantile(q=(0.25,0.5,0.75))\n",
        "\n",
        "#important options to consider:\n",
        "\n",
        "#q = default 0.5 (50%) , should be defined for each quarntile needed to calculate\n",
        "#axis = if 0 calculates columns, if 1 calculates rows. default=0\n",
        "#numeric_only = default True, allows calculating the average for numeric values only\n"
      ],
      "execution_count": null,
      "outputs": [
        {
          "output_type": "execute_result",
          "data": {
            "text/html": [
              "<div>\n",
              "<style scoped>\n",
              "    .dataframe tbody tr th:only-of-type {\n",
              "        vertical-align: middle;\n",
              "    }\n",
              "\n",
              "    .dataframe tbody tr th {\n",
              "        vertical-align: top;\n",
              "    }\n",
              "\n",
              "    .dataframe thead th {\n",
              "        text-align: right;\n",
              "    }\n",
              "</style>\n",
              "<table border=\"1\" class=\"dataframe\">\n",
              "  <thead>\n",
              "    <tr style=\"text-align: right;\">\n",
              "      <th></th>\n",
              "      <th>claps</th>\n",
              "      <th>reading_time</th>\n",
              "      <th>title_len</th>\n",
              "      <th>text_len</th>\n",
              "    </tr>\n",
              "  </thead>\n",
              "  <tbody>\n",
              "    <tr>\n",
              "      <th>0.25</th>\n",
              "      <td>157.0</td>\n",
              "      <td>6.0</td>\n",
              "      <td>55.0</td>\n",
              "      <td>6103.0</td>\n",
              "    </tr>\n",
              "    <tr>\n",
              "      <th>0.50</th>\n",
              "      <td>2000.0</td>\n",
              "      <td>8.0</td>\n",
              "      <td>63.0</td>\n",
              "      <td>8697.0</td>\n",
              "    </tr>\n",
              "    <tr>\n",
              "      <th>0.75</th>\n",
              "      <td>7000.0</td>\n",
              "      <td>13.0</td>\n",
              "      <td>72.0</td>\n",
              "      <td>14237.0</td>\n",
              "    </tr>\n",
              "  </tbody>\n",
              "</table>\n",
              "</div>"
            ],
            "text/plain": [
              "       claps  reading_time  title_len  text_len\n",
              "0.25   157.0           6.0       55.0    6103.0\n",
              "0.50  2000.0           8.0       63.0    8697.0\n",
              "0.75  7000.0          13.0       72.0   14237.0"
            ]
          },
          "metadata": {
            "tags": []
          },
          "execution_count": 33
        }
      ]
    },
    {
      "cell_type": "markdown",
      "metadata": {
        "colab_type": "text",
        "id": "rn36vdAw7E-q"
      },
      "source": [
        "#####**.min( ), .max() : range of entries**\n"
      ]
    },
    {
      "cell_type": "code",
      "metadata": {
        "colab_type": "code",
        "id": "0_mAL8_Y7E-s",
        "colab": {
          "base_uri": "https://localhost:8080/",
          "height": 187
        },
        "outputId": "987033ed-00bb-49ed-9eac-0d444ae0527f"
      },
      "source": [
        "print('minimal values:',data.min(numeric_only=True))\n",
        "print('maximum values:',data.max(numeric_only=True))\n",
        "\n",
        "#important options to consider:\n",
        "\n",
        "#skipna = default False, allows calculating the average withough NA/NaN entries\n",
        "#numeric_only = default None, allows calculating the average for numeric values only\n"
      ],
      "execution_count": null,
      "outputs": [
        {
          "output_type": "stream",
          "text": [
            "minimal values: claps              1\n",
            "reading_time       2\n",
            "title_len         24\n",
            "text_len        1350\n",
            "dtype: int64\n",
            "maximum values: claps           53000\n",
            "reading_time       31\n",
            "title_len         104\n",
            "text_len        44527\n",
            "dtype: int64\n"
          ],
          "name": "stdout"
        }
      ]
    },
    {
      "cell_type": "markdown",
      "metadata": {
        "id": "0cfqXLCdQLt_",
        "colab_type": "text"
      },
      "source": [
        "#### **Group by & aggregation functions: to uncover possible relationships within the data** "
      ]
    },
    {
      "cell_type": "markdown",
      "metadata": {
        "id": "Z8CIELO1QfbR",
        "colab_type": "text"
      },
      "source": [
        "##### **Group by**\n",
        "\n",
        "\n",
        "```\n",
        "The group-by function includes the following variables: \n",
        "# by = state what do you want to group by on\n",
        "# axis = 0 by default. 0 = column, 1 = row\n",
        "# as_index = True by default (will use group labels as index)\n",
        "\n",
        "```\n",
        "\n"
      ]
    },
    {
      "cell_type": "code",
      "metadata": {
        "id": "lWJXb-OWP2a0",
        "colab_type": "code",
        "colab": {}
      },
      "source": [
        "blog_len = data.groupby(by=['reading_time'],axis=0,as_index= False)"
      ],
      "execution_count": null,
      "outputs": []
    },
    {
      "cell_type": "markdown",
      "metadata": {
        "id": "TRmd1Art_X2Q",
        "colab_type": "text"
      },
      "source": [
        "#####**.agg function**"
      ]
    },
    {
      "cell_type": "code",
      "metadata": {
        "id": "NDpBgAVF_bAG",
        "colab_type": "code",
        "colab": {
          "base_uri": "https://localhost:8080/",
          "height": 886
        },
        "outputId": "8817a3fc-0a24-4e4c-cd02-47fb01842267"
      },
      "source": [
        "blog_len.agg(['mean','median']) #one of the advantages of using .agg is that you can use it for multiple types of aggregations including with dictionaries "
      ],
      "execution_count": null,
      "outputs": [
        {
          "output_type": "execute_result",
          "data": {
            "text/html": [
              "<div>\n",
              "<style scoped>\n",
              "    .dataframe tbody tr th:only-of-type {\n",
              "        vertical-align: middle;\n",
              "    }\n",
              "\n",
              "    .dataframe tbody tr th {\n",
              "        vertical-align: top;\n",
              "    }\n",
              "\n",
              "    .dataframe thead tr th {\n",
              "        text-align: left;\n",
              "    }\n",
              "\n",
              "    .dataframe thead tr:last-of-type th {\n",
              "        text-align: right;\n",
              "    }\n",
              "</style>\n",
              "<table border=\"1\" class=\"dataframe\">\n",
              "  <thead>\n",
              "    <tr>\n",
              "      <th></th>\n",
              "      <th colspan=\"2\" halign=\"left\">claps</th>\n",
              "      <th colspan=\"2\" halign=\"left\">title_len</th>\n",
              "      <th colspan=\"2\" halign=\"left\">text_len</th>\n",
              "    </tr>\n",
              "    <tr>\n",
              "      <th></th>\n",
              "      <th>mean</th>\n",
              "      <th>median</th>\n",
              "      <th>mean</th>\n",
              "      <th>median</th>\n",
              "      <th>mean</th>\n",
              "      <th>median</th>\n",
              "    </tr>\n",
              "    <tr>\n",
              "      <th>reading_time</th>\n",
              "      <th></th>\n",
              "      <th></th>\n",
              "      <th></th>\n",
              "      <th></th>\n",
              "      <th></th>\n",
              "      <th></th>\n",
              "    </tr>\n",
              "  </thead>\n",
              "  <tbody>\n",
              "    <tr>\n",
              "      <th>2</th>\n",
              "      <td>8.500000</td>\n",
              "      <td>8.5</td>\n",
              "      <td>89.000000</td>\n",
              "      <td>89.0</td>\n",
              "      <td>1386.500000</td>\n",
              "      <td>1386.5</td>\n",
              "    </tr>\n",
              "    <tr>\n",
              "      <th>3</th>\n",
              "      <td>1147.421053</td>\n",
              "      <td>128.0</td>\n",
              "      <td>60.736842</td>\n",
              "      <td>58.0</td>\n",
              "      <td>3179.526316</td>\n",
              "      <td>3105.0</td>\n",
              "    </tr>\n",
              "    <tr>\n",
              "      <th>4</th>\n",
              "      <td>623.083333</td>\n",
              "      <td>19.5</td>\n",
              "      <td>59.708333</td>\n",
              "      <td>59.0</td>\n",
              "      <td>4063.791667</td>\n",
              "      <td>4216.5</td>\n",
              "    </tr>\n",
              "    <tr>\n",
              "      <th>5</th>\n",
              "      <td>1730.866667</td>\n",
              "      <td>166.0</td>\n",
              "      <td>64.200000</td>\n",
              "      <td>64.5</td>\n",
              "      <td>5508.733333</td>\n",
              "      <td>5520.0</td>\n",
              "    </tr>\n",
              "    <tr>\n",
              "      <th>6</th>\n",
              "      <td>2775.785714</td>\n",
              "      <td>937.0</td>\n",
              "      <td>67.714286</td>\n",
              "      <td>59.0</td>\n",
              "      <td>6582.404762</td>\n",
              "      <td>7135.0</td>\n",
              "    </tr>\n",
              "    <tr>\n",
              "      <th>7</th>\n",
              "      <td>3846.468750</td>\n",
              "      <td>1300.0</td>\n",
              "      <td>64.437500</td>\n",
              "      <td>61.0</td>\n",
              "      <td>7671.281250</td>\n",
              "      <td>7892.5</td>\n",
              "    </tr>\n",
              "    <tr>\n",
              "      <th>8</th>\n",
              "      <td>7310.692308</td>\n",
              "      <td>3500.0</td>\n",
              "      <td>68.038462</td>\n",
              "      <td>65.5</td>\n",
              "      <td>9129.961538</td>\n",
              "      <td>9424.5</td>\n",
              "    </tr>\n",
              "    <tr>\n",
              "      <th>9</th>\n",
              "      <td>8153.200000</td>\n",
              "      <td>947.0</td>\n",
              "      <td>56.066667</td>\n",
              "      <td>54.0</td>\n",
              "      <td>10433.800000</td>\n",
              "      <td>10457.0</td>\n",
              "    </tr>\n",
              "    <tr>\n",
              "      <th>10</th>\n",
              "      <td>6211.875000</td>\n",
              "      <td>3900.0</td>\n",
              "      <td>61.916667</td>\n",
              "      <td>63.0</td>\n",
              "      <td>9324.833333</td>\n",
              "      <td>8882.5</td>\n",
              "    </tr>\n",
              "    <tr>\n",
              "      <th>11</th>\n",
              "      <td>7667.481481</td>\n",
              "      <td>2800.0</td>\n",
              "      <td>67.000000</td>\n",
              "      <td>67.0</td>\n",
              "      <td>12530.814815</td>\n",
              "      <td>12879.0</td>\n",
              "    </tr>\n",
              "    <tr>\n",
              "      <th>12</th>\n",
              "      <td>2690.545455</td>\n",
              "      <td>4300.0</td>\n",
              "      <td>61.727273</td>\n",
              "      <td>66.0</td>\n",
              "      <td>13112.000000</td>\n",
              "      <td>12666.0</td>\n",
              "    </tr>\n",
              "    <tr>\n",
              "      <th>13</th>\n",
              "      <td>16106.666667</td>\n",
              "      <td>15200.0</td>\n",
              "      <td>70.200000</td>\n",
              "      <td>72.0</td>\n",
              "      <td>15157.133333</td>\n",
              "      <td>15325.0</td>\n",
              "    </tr>\n",
              "    <tr>\n",
              "      <th>14</th>\n",
              "      <td>2658.500000</td>\n",
              "      <td>1658.5</td>\n",
              "      <td>64.250000</td>\n",
              "      <td>58.5</td>\n",
              "      <td>17446.750000</td>\n",
              "      <td>19297.5</td>\n",
              "    </tr>\n",
              "    <tr>\n",
              "      <th>15</th>\n",
              "      <td>9292.545455</td>\n",
              "      <td>8700.0</td>\n",
              "      <td>61.818182</td>\n",
              "      <td>56.0</td>\n",
              "      <td>18176.000000</td>\n",
              "      <td>17761.5</td>\n",
              "    </tr>\n",
              "    <tr>\n",
              "      <th>16</th>\n",
              "      <td>19142.857143</td>\n",
              "      <td>10200.0</td>\n",
              "      <td>71.714286</td>\n",
              "      <td>63.0</td>\n",
              "      <td>20451.571429</td>\n",
              "      <td>18964.0</td>\n",
              "    </tr>\n",
              "    <tr>\n",
              "      <th>17</th>\n",
              "      <td>3923.153846</td>\n",
              "      <td>2600.0</td>\n",
              "      <td>64.769231</td>\n",
              "      <td>65.0</td>\n",
              "      <td>19140.307692</td>\n",
              "      <td>19613.0</td>\n",
              "    </tr>\n",
              "    <tr>\n",
              "      <th>18</th>\n",
              "      <td>35000.000000</td>\n",
              "      <td>35000.0</td>\n",
              "      <td>72.000000</td>\n",
              "      <td>72.0</td>\n",
              "      <td>25511.000000</td>\n",
              "      <td>25511.0</td>\n",
              "    </tr>\n",
              "    <tr>\n",
              "      <th>19</th>\n",
              "      <td>6845.666667</td>\n",
              "      <td>5400.0</td>\n",
              "      <td>53.333333</td>\n",
              "      <td>51.0</td>\n",
              "      <td>26126.333333</td>\n",
              "      <td>26302.0</td>\n",
              "    </tr>\n",
              "    <tr>\n",
              "      <th>20</th>\n",
              "      <td>7600.000000</td>\n",
              "      <td>10600.0</td>\n",
              "      <td>82.333333</td>\n",
              "      <td>76.0</td>\n",
              "      <td>27517.000000</td>\n",
              "      <td>26411.0</td>\n",
              "    </tr>\n",
              "    <tr>\n",
              "      <th>23</th>\n",
              "      <td>4637.200000</td>\n",
              "      <td>7000.0</td>\n",
              "      <td>81.200000</td>\n",
              "      <td>88.0</td>\n",
              "      <td>22825.800000</td>\n",
              "      <td>20297.0</td>\n",
              "    </tr>\n",
              "    <tr>\n",
              "      <th>24</th>\n",
              "      <td>7000.000000</td>\n",
              "      <td>7000.0</td>\n",
              "      <td>67.000000</td>\n",
              "      <td>67.0</td>\n",
              "      <td>31917.000000</td>\n",
              "      <td>31917.0</td>\n",
              "    </tr>\n",
              "    <tr>\n",
              "      <th>25</th>\n",
              "      <td>9100.000000</td>\n",
              "      <td>9100.0</td>\n",
              "      <td>72.000000</td>\n",
              "      <td>72.0</td>\n",
              "      <td>18313.000000</td>\n",
              "      <td>18313.0</td>\n",
              "    </tr>\n",
              "    <tr>\n",
              "      <th>27</th>\n",
              "      <td>1300.000000</td>\n",
              "      <td>1300.0</td>\n",
              "      <td>67.000000</td>\n",
              "      <td>67.0</td>\n",
              "      <td>36987.000000</td>\n",
              "      <td>36987.0</td>\n",
              "    </tr>\n",
              "    <tr>\n",
              "      <th>30</th>\n",
              "      <td>1000.000000</td>\n",
              "      <td>1000.0</td>\n",
              "      <td>76.000000</td>\n",
              "      <td>76.0</td>\n",
              "      <td>38831.000000</td>\n",
              "      <td>38831.0</td>\n",
              "    </tr>\n",
              "    <tr>\n",
              "      <th>31</th>\n",
              "      <td>928.666667</td>\n",
              "      <td>43.0</td>\n",
              "      <td>47.000000</td>\n",
              "      <td>47.0</td>\n",
              "      <td>44085.000000</td>\n",
              "      <td>44527.0</td>\n",
              "    </tr>\n",
              "  </tbody>\n",
              "</table>\n",
              "</div>"
            ],
            "text/plain": [
              "                     claps           title_len             text_len         \n",
              "                      mean   median       mean median          mean   median\n",
              "reading_time                                                                \n",
              "2                 8.500000      8.5  89.000000   89.0   1386.500000   1386.5\n",
              "3              1147.421053    128.0  60.736842   58.0   3179.526316   3105.0\n",
              "4               623.083333     19.5  59.708333   59.0   4063.791667   4216.5\n",
              "5              1730.866667    166.0  64.200000   64.5   5508.733333   5520.0\n",
              "6              2775.785714    937.0  67.714286   59.0   6582.404762   7135.0\n",
              "7              3846.468750   1300.0  64.437500   61.0   7671.281250   7892.5\n",
              "8              7310.692308   3500.0  68.038462   65.5   9129.961538   9424.5\n",
              "9              8153.200000    947.0  56.066667   54.0  10433.800000  10457.0\n",
              "10             6211.875000   3900.0  61.916667   63.0   9324.833333   8882.5\n",
              "11             7667.481481   2800.0  67.000000   67.0  12530.814815  12879.0\n",
              "12             2690.545455   4300.0  61.727273   66.0  13112.000000  12666.0\n",
              "13            16106.666667  15200.0  70.200000   72.0  15157.133333  15325.0\n",
              "14             2658.500000   1658.5  64.250000   58.5  17446.750000  19297.5\n",
              "15             9292.545455   8700.0  61.818182   56.0  18176.000000  17761.5\n",
              "16            19142.857143  10200.0  71.714286   63.0  20451.571429  18964.0\n",
              "17             3923.153846   2600.0  64.769231   65.0  19140.307692  19613.0\n",
              "18            35000.000000  35000.0  72.000000   72.0  25511.000000  25511.0\n",
              "19             6845.666667   5400.0  53.333333   51.0  26126.333333  26302.0\n",
              "20             7600.000000  10600.0  82.333333   76.0  27517.000000  26411.0\n",
              "23             4637.200000   7000.0  81.200000   88.0  22825.800000  20297.0\n",
              "24             7000.000000   7000.0  67.000000   67.0  31917.000000  31917.0\n",
              "25             9100.000000   9100.0  72.000000   72.0  18313.000000  18313.0\n",
              "27             1300.000000   1300.0  67.000000   67.0  36987.000000  36987.0\n",
              "30             1000.000000   1000.0  76.000000   76.0  38831.000000  38831.0\n",
              "31              928.666667     43.0  47.000000   47.0  44085.000000  44527.0"
            ]
          },
          "metadata": {
            "tags": []
          },
          "execution_count": 53
        }
      ]
    },
    {
      "cell_type": "markdown",
      "metadata": {
        "id": "EDb64JDbBOwT",
        "colab_type": "text"
      },
      "source": [
        "#####**.agg: custom functions (truncated mean)**"
      ]
    },
    {
      "cell_type": "code",
      "metadata": {
        "id": "RpeOmjHG_3oV",
        "colab_type": "code",
        "colab": {
          "base_uri": "https://localhost:8080/",
          "height": 855
        },
        "outputId": "cb9a7e46-5049-4c11-b600-c26143086ff9"
      },
      "source": [
        "# custom function taken from datacamp #\n",
        "def truncated_mean (data): \n",
        "\n",
        "  \"\"\" compute mean excluding outliers\"\"\"\n",
        "\n",
        "  top_val = data.quantile(.9)\n",
        "  bottom_val = data.quantile(.1)\n",
        "  trunc_data = data[(data<=top_val)&(data>=bottom_val)]\n",
        "  mean =trunc_data.mean()\n",
        "  return (mean)\n",
        "\n",
        "# find trunc data by reading time and number of claps\n",
        "blog_len.agg({'claps':[truncated_mean]})\n"
      ],
      "execution_count": null,
      "outputs": [
        {
          "output_type": "execute_result",
          "data": {
            "text/html": [
              "<div>\n",
              "<style scoped>\n",
              "    .dataframe tbody tr th:only-of-type {\n",
              "        vertical-align: middle;\n",
              "    }\n",
              "\n",
              "    .dataframe tbody tr th {\n",
              "        vertical-align: top;\n",
              "    }\n",
              "\n",
              "    .dataframe thead tr th {\n",
              "        text-align: left;\n",
              "    }\n",
              "</style>\n",
              "<table border=\"1\" class=\"dataframe\">\n",
              "  <thead>\n",
              "    <tr>\n",
              "      <th></th>\n",
              "      <th>reading_time</th>\n",
              "      <th>claps</th>\n",
              "    </tr>\n",
              "    <tr>\n",
              "      <th></th>\n",
              "      <th></th>\n",
              "      <th>truncated_mean</th>\n",
              "    </tr>\n",
              "  </thead>\n",
              "  <tbody>\n",
              "    <tr>\n",
              "      <th>0</th>\n",
              "      <td>2</td>\n",
              "      <td>NaN</td>\n",
              "    </tr>\n",
              "    <tr>\n",
              "      <th>1</th>\n",
              "      <td>3</td>\n",
              "      <td>624.875000</td>\n",
              "    </tr>\n",
              "    <tr>\n",
              "      <th>2</th>\n",
              "      <td>4</td>\n",
              "      <td>88.285714</td>\n",
              "    </tr>\n",
              "    <tr>\n",
              "      <th>3</th>\n",
              "      <td>5</td>\n",
              "      <td>868.920000</td>\n",
              "    </tr>\n",
              "    <tr>\n",
              "      <th>4</th>\n",
              "      <td>6</td>\n",
              "      <td>2957.305556</td>\n",
              "    </tr>\n",
              "    <tr>\n",
              "      <th>5</th>\n",
              "      <td>7</td>\n",
              "      <td>2760.708333</td>\n",
              "    </tr>\n",
              "    <tr>\n",
              "      <th>6</th>\n",
              "      <td>8</td>\n",
              "      <td>7044.636364</td>\n",
              "    </tr>\n",
              "    <tr>\n",
              "      <th>7</th>\n",
              "      <td>9</td>\n",
              "      <td>1480.545455</td>\n",
              "    </tr>\n",
              "    <tr>\n",
              "      <th>8</th>\n",
              "      <td>10</td>\n",
              "      <td>2788.684211</td>\n",
              "    </tr>\n",
              "    <tr>\n",
              "      <th>9</th>\n",
              "      <td>11</td>\n",
              "      <td>4771.047619</td>\n",
              "    </tr>\n",
              "    <tr>\n",
              "      <th>10</th>\n",
              "      <td>12</td>\n",
              "      <td>2429.600000</td>\n",
              "    </tr>\n",
              "    <tr>\n",
              "      <th>11</th>\n",
              "      <td>13</td>\n",
              "      <td>12763.636364</td>\n",
              "    </tr>\n",
              "    <tr>\n",
              "      <th>12</th>\n",
              "      <td>14</td>\n",
              "      <td>1111.333333</td>\n",
              "    </tr>\n",
              "    <tr>\n",
              "      <th>13</th>\n",
              "      <td>15</td>\n",
              "      <td>7905.882353</td>\n",
              "    </tr>\n",
              "    <tr>\n",
              "      <th>14</th>\n",
              "      <td>16</td>\n",
              "      <td>19142.857143</td>\n",
              "    </tr>\n",
              "    <tr>\n",
              "      <th>15</th>\n",
              "      <td>17</td>\n",
              "      <td>3109.090909</td>\n",
              "    </tr>\n",
              "    <tr>\n",
              "      <th>16</th>\n",
              "      <td>18</td>\n",
              "      <td>35000.000000</td>\n",
              "    </tr>\n",
              "    <tr>\n",
              "      <th>17</th>\n",
              "      <td>19</td>\n",
              "      <td>5400.000000</td>\n",
              "    </tr>\n",
              "    <tr>\n",
              "      <th>18</th>\n",
              "      <td>20</td>\n",
              "      <td>7600.000000</td>\n",
              "    </tr>\n",
              "    <tr>\n",
              "      <th>19</th>\n",
              "      <td>23</td>\n",
              "      <td>5625.000000</td>\n",
              "    </tr>\n",
              "    <tr>\n",
              "      <th>20</th>\n",
              "      <td>24</td>\n",
              "      <td>7000.000000</td>\n",
              "    </tr>\n",
              "    <tr>\n",
              "      <th>21</th>\n",
              "      <td>25</td>\n",
              "      <td>9100.000000</td>\n",
              "    </tr>\n",
              "    <tr>\n",
              "      <th>22</th>\n",
              "      <td>27</td>\n",
              "      <td>1300.000000</td>\n",
              "    </tr>\n",
              "    <tr>\n",
              "      <th>23</th>\n",
              "      <td>30</td>\n",
              "      <td>1000.000000</td>\n",
              "    </tr>\n",
              "    <tr>\n",
              "      <th>24</th>\n",
              "      <td>31</td>\n",
              "      <td>43.000000</td>\n",
              "    </tr>\n",
              "  </tbody>\n",
              "</table>\n",
              "</div>"
            ],
            "text/plain": [
              "   reading_time          claps\n",
              "                truncated_mean\n",
              "0             2            NaN\n",
              "1             3     624.875000\n",
              "2             4      88.285714\n",
              "3             5     868.920000\n",
              "4             6    2957.305556\n",
              "5             7    2760.708333\n",
              "6             8    7044.636364\n",
              "7             9    1480.545455\n",
              "8            10    2788.684211\n",
              "9            11    4771.047619\n",
              "10           12    2429.600000\n",
              "11           13   12763.636364\n",
              "12           14    1111.333333\n",
              "13           15    7905.882353\n",
              "14           16   19142.857143\n",
              "15           17    3109.090909\n",
              "16           18   35000.000000\n",
              "17           19    5400.000000\n",
              "18           20    7600.000000\n",
              "19           23    5625.000000\n",
              "20           24    7000.000000\n",
              "21           25    9100.000000\n",
              "22           27    1300.000000\n",
              "23           30    1000.000000\n",
              "24           31      43.000000"
            ]
          },
          "metadata": {
            "tags": []
          },
          "execution_count": 59
        }
      ]
    }
  ]
}